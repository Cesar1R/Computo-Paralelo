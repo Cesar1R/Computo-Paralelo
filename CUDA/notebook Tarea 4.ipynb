{
 "cells": [
  {
   "cell_type": "markdown",
   "metadata": {},
   "source": [
    "La imagen generada se guarda con el nombre imagen_combinada.bmp"
   ]
  },
  {
   "cell_type": "code",
   "execution_count": null,
   "metadata": {
    "vscode": {
     "languageId": "plaintext"
    }
   },
   "outputs": [],
   "source": [
    "%%writefile combinacion_secuencial.cpp\n",
    "#include <opencv2/opencv.hpp>\n",
    "#include <iostream>\n",
    "\n",
    "\n",
    "\n",
    "int main() {\n",
    "    cv::Mat fondo = cv::imread(\"/content/drive/MyDrive/Demat6/Computo Paralelo/Tarea4/fondo.bmp\", cv::IMREAD_COLOR);\n",
    "    cv::Mat imagen = cv::imread(\"/content/drive/MyDrive/Demat6/Computo Paralelo/Tarea4/greenscreen.bmp\", cv::IMREAD_COLOR);\n",
    "    cv::Mat mask = cv::imread(\"/content/drive/MyDrive/Demat6/Computo Paralelo/Tarea4/greenscreenMask.bmp\", cv::IMREAD_GRAYSCALE);\n",
    "\n",
    "    if (fondo.empty() || imagen.empty() || mask.empty()) {\n",
    "        std::cerr << \"Error al cargar las imágenes\" << std::endl;\n",
    "        return -1;\n",
    "    }\n",
    "\n",
    "    cv::Mat imgResult = cv::Mat::zeros(imagen.size(), imagen.type());\n",
    "\n",
    "    for (int y = 0; y < imagen.rows; y++) {\n",
    "        for (int x = 0; x < imagen.cols; x++) {\n",
    "            cv::Vec3b b = fondo.at<cv::Vec3b>(y, x);\n",
    "            cv::Vec3b a = imagen.at<cv::Vec3b>(y, x);\n",
    "            float alpha = mask.at<uchar>(y, x) / 255.0;\n",
    "\n",
    "            cv::Vec3b c;\n",
    "            c[0] = a[0] * alpha + (1 - alpha) * b[0];\n",
    "            c[1] = a[1] * alpha + (1 - alpha) * b[1];\n",
    "            c[2] = a[2] * alpha + (1 - alpha) * b[2];\n",
    "\n",
    "            imgResult.at<cv::Vec3b>(y, x) = c;\n",
    "        }\n",
    "    }\n",
    "\n",
    "    // Guardar la imagen combinada\n",
    "    cv::imwrite(\"imagen_combinada.bmp\", imgResult);\n",
    "\n",
    "    return 0;\n",
    "}\n"
   ]
  },
  {
   "cell_type": "code",
   "execution_count": null,
   "metadata": {
    "vscode": {
     "languageId": "plaintext"
    }
   },
   "outputs": [],
   "source": [
    "!g++ combinacion_secuencial.cpp -o combinacion_secuencial `pkg-config --cflags --libs opencv4`"
   ]
  },
  {
   "cell_type": "code",
   "execution_count": null,
   "metadata": {
    "vscode": {
     "languageId": "plaintext"
    }
   },
   "outputs": [],
   "source": [
    "!./combinacion_secuencial"
   ]
  },
  {
   "cell_type": "code",
   "execution_count": null,
   "metadata": {
    "vscode": {
     "languageId": "plaintext"
    }
   },
   "outputs": [],
   "source": [
    "%%writefile imagenMG.cpp \n",
    "\n",
    "#include <opencv2/opencv.hpp>\n",
    "#include <cmath>\n",
    "\n",
    "int main(){\n",
    "\n",
    "    cv::Mat img = cv::imread(\"/content/drive/MyDrive/Demat6/Computo Paralelo/Tarea4/pinzas_gray.png\", cv::IMREAD_GRAYSCALE); \n",
    "\n",
    "    if(img.empty()){\n",
    "        std::cerr <<\"Imagen vacia\" << std::endl; \n",
    "        return -1; \n",
    "    }\n",
    "\n",
    "    cv::Mat K1 = (cv::Mat_<float>(3, 3) << -1, 0, 1, -2, 0, 2, -1, 0, 1);\n",
    "    cv::Mat K2 = (cv::Mat_<float>(3, 3) << -1, -2, -1, 0, 0, 0, 1, 2, 1);\n",
    "\n",
    "    cv::Mat imgX, imgY; \n",
    "    \n",
    "    cv::filter2D(img, imgX, CV_32F, K1);\n",
    "    cv::filter2D(img, imgY, CV_32F, K2);\n",
    "\n",
    "    cv::Mat MG = cv::Mat::zeros(img.size(), CV_8U);\n",
    "\n",
    "    for (int y = 0; y < img.rows; y++) {\n",
    "        for (int x = 0; x < img.cols; x++) {\n",
    "            float gx = imgX.at<float>(y, x);\n",
    "            float gy = imgY.at<float>(y, x);\n",
    "            MG.at<uchar>(y, x) = static_cast<uchar>(cv::sqrt(gx*gx + gy*gy));\n",
    "        }\n",
    "    }\n",
    "\n",
    "    cv::normalize(MG, MG, 0, 255, cv::NORM_MINMAX, CV_8U);\n",
    "    cv::imwrite(\"imagen_MG.bmp\", MG);\n",
    "\n",
    "    \n",
    "\n",
    "    cv::Mat MGT = cv::Mat::zeros(img.size(), CV_8U);\n",
    "\n",
    "    int T = 100; \n",
    "\n",
    "    for (int y = 0; y < img.rows; y++) {\n",
    "        for (int x = 0; x < img.cols; x++) {\n",
    "            float comp = MG.at<uchar>(y, x);\n",
    "            MGT.at<uchar>(y, x) = static_cast<uchar>((comp > T) ? 255 : 0);\n",
    "        }\n",
    "    }\n",
    "\n",
    "\n",
    "    cv::normalize(MGT, MGT, 0, 255, cv::NORM_MINMAX, CV_8U);\n",
    "    cv::imwrite(\"imagen_MGT.bmp\", MGT);\n",
    "\n",
    "    return 0;\n",
    "\n",
    "}"
   ]
  }
 ],
 "metadata": {
  "language_info": {
   "name": "python"
  }
 },
 "nbformat": 4,
 "nbformat_minor": 2
}
